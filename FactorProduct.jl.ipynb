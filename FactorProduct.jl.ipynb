{
 "cells": [
  {
   "cell_type": "code",
   "execution_count": 1,
   "metadata": {
    "collapsed": false
   },
   "outputs": [
    {
     "name": "stderr",
     "output_type": "stream",
     "text": [
      "INFO: Precompiling module DataArrays.\n",
      "INFO: Precompiling module DataFrames.\n"
     ]
    }
   ],
   "source": [
    "using DataArrays\n",
    "using DataFrames"
   ]
  },
  {
   "cell_type": "code",
   "execution_count": 10,
   "metadata": {
    "collapsed": false
   },
   "outputs": [
    {
     "ename": "LoadError",
     "evalue": "LoadError: TypeError: typeassert: expected Array{T,1}, got Base.#var\nwhile loading In[10], in expression starting on line 6",
     "output_type": "error",
     "traceback": [
      "LoadError: TypeError: typeassert: expected Array{T,1}, got Base.#var\nwhile loading In[10], in expression starting on line 6",
      ""
     ]
    }
   ],
   "source": [
    "# The factor data structure has the following fields\n",
    "#  .var    Vector of variables in the factor, e.g. [1 2 3]\n",
    "#  .card   Vector of cardinalities corresponding to .var, e.g. [2 2 2]\n",
    "#  .val    Value table of size prod(.card)\n",
    "\n",
    "var::Vector\n",
    "card::Vector\n",
    "val::Array\n",
    "\n",
    "Factor = @pdata([var,card,val])\n",
    "\n",
    "# FactorProduct (FP) computes the product of two factors\n",
    "\n",
    "# Compute the product between factors A and B where each factor is defined over a set of variables \n",
    "# of a given dimension\n",
    "\n",
    "function FP(A,B) \n",
    "    local A::Factor\n",
    "    local B::Factor\n",
    "end \n",
    "    \n",
    "#   See also FactorMarginalization.m, IndexToAssignment.m, and AssignmentToIndex.m"
   ]
  },
  {
   "cell_type": "code",
   "execution_count": null,
   "metadata": {
    "collapsed": true
   },
   "outputs": [],
   "source": [
    "# Check for empty factors\n",
    "\n",
    "if (isempty(A.var)) \n",
    "    FP = B \n",
    "    return\n",
    "end\n",
    "    \n",
    "if (isempty(B.var)) \n",
    "    FP = A \n",
    "    return\n",
    "end"
   ]
  },
  {
   "cell_type": "code",
   "execution_count": null,
   "metadata": {
    "collapsed": false
   },
   "outputs": [],
   "source": []
  },
  {
   "cell_type": "code",
   "execution_count": null,
   "metadata": {
    "collapsed": true
   },
   "outputs": [],
   "source": []
  }
 ],
 "metadata": {
  "anaconda-cloud": {},
  "kernelspec": {
   "display_name": "Julia 0.5.0",
   "language": "julia",
   "name": "julia-0.5"
  },
  "language_info": {
   "file_extension": ".jl",
   "mimetype": "application/julia",
   "name": "julia",
   "version": "0.5.0"
  }
 },
 "nbformat": 4,
 "nbformat_minor": 0
}
