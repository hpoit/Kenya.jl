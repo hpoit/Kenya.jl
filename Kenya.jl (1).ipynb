{
 "cells": [
  {
   "cell_type": "code",
   "execution_count": 14,
   "metadata": {
    "collapsed": false
   },
   "outputs": [
    {
     "data": {
      "text/plain": [
       ":people"
      ]
     },
     "execution_count": 14,
     "metadata": {},
     "output_type": "execute_result"
    }
   ],
   "source": [
    "# Representation of a constant symbol 'people'\n",
    "constant1=:people"
   ]
  },
  {
   "cell_type": "code",
   "execution_count": 15,
   "metadata": {
    "collapsed": false
   },
   "outputs": [
    {
     "data": {
      "text/plain": [
       ":fatherof"
      ]
     },
     "execution_count": 15,
     "metadata": {},
     "output_type": "execute_result"
    }
   ],
   "source": [
    "# Representation of a function symbol 'fatherof'\n",
    "func1=:fatherof"
   ]
  },
  {
   "cell_type": "code",
   "execution_count": 16,
   "metadata": {
    "collapsed": false
   },
   "outputs": [
    {
     "data": {
      "text/plain": [
       ":friends"
      ]
     },
     "execution_count": 16,
     "metadata": {},
     "output_type": "execute_result"
    }
   ],
   "source": [
    "# Representation of a predicate symbol 'friends'\n",
    "predicate1=:friends"
   ]
  },
  {
   "cell_type": "code",
   "execution_count": 18,
   "metadata": {
    "collapsed": false
   },
   "outputs": [
    {
     "data": {
      "text/plain": [
       ":($(Expr(:in, :fatherof, :((griffin,xavier,damian,saxon,kai)))))"
      ]
     },
     "execution_count": 18,
     "metadata": {},
     "output_type": "execute_result"
    }
   ],
   "source": [
    "# A term is any expression representing an object in the domain. It can be a constant, variable, or function \n",
    "# applied to a tuple of terms.\n",
    "\n",
    "# Representation of a term expression 'fatherof(griffin,xavier,damian,saxon,kai)'\n",
    "term1=:(fatherof in $:((griffin,xavier,damian,saxon,kai)))"
   ]
  },
  {
   "cell_type": "code",
   "execution_count": 1,
   "metadata": {
    "collapsed": false
   },
   "outputs": [
    {
     "data": {
      "text/plain": [
       ":($(Expr(:in, :friends, :((x,term1)))))"
      ]
     },
     "execution_count": 1,
     "metadata": {},
     "output_type": "execute_result"
    }
   ],
   "source": [
    "# An atom or atomic formula is a predicate symbol applied to a tuple of terms.\n",
    "\n",
    "# Representation of an atom 'friends(x, term1))'\n",
    ":(friends in $:((x,term1)))"
   ]
  },
  {
   "cell_type": "code",
   "execution_count": null,
   "metadata": {
    "collapsed": true
   },
   "outputs": [],
   "source": [
    "# Formulas are constructed with four types of symbols: constants, variables, functions, predicates.\n",
    "\n",
    "# Formulas are recursively constructed from atoms (e.g. friends(x,term1)) with logical connectives \n",
    "# (e.g. negation, conjunction, disjunction, material implication, biconditional iff) and quantifiers \n",
    "# (e.g. all, exists). \n",
    "\n",
    "# E.g. of English to first-order logic formula\n",
    "\n",
    "# Friends of friends are friends\n",
    "# ∀x∀y∀z Fr(x, y) ∧ Fr(y, z) ⇒ Fr(x, z) (implication form)\n",
    "\n",
    "# Formulas in a knowledge base are implicitly combined, thus a KB can be viewed as a single large formula.\n",
    "\n",
    "# If F_1 and F_2 are formulas, then so are\n",
    "(\n",
    "# ¬ F_1, true iff F_1 is false\n",
    "# F_1 ∧ F_2, true iff F_1 and F_2 are true\n",
    "# F_1 ∨ F_2, true iff F_1 or F_2 is true\n",
    "# F_1 ⇒ F_2, true iff F_1 is false or F_2 is true\n",
    "# F_1 ⇔ F_2, true iff F_1 and F_2 have the same truth value\n",
    "# ∀xF_1, true iff F_1 is true for every object x in the domain\n",
    "# ∃xF_1, true iff F_1 is true for at least one object x in the domain\n",
    ")\n",
    "# need () in Julia\n",
    "\n",
    "# For automated inference, it's often convenient to convert formulas to a more regular form, typically \n",
    "# conjunctive normal form (CNF). CNF is a sound and refutation-complete inference procedure for first-order logic.\n",
    "\n",
    "# ¬Fr(x,y) ∨ ¬Fr(y,z) ∨ Fr(x,z) (CNF) (need in Julia)\n",
    "\n",
    "\n",
    "\n",
    "\n",
    "\n"
   ]
  }
 ],
 "metadata": {
  "anaconda-cloud": {},
  "kernelspec": {
   "display_name": "Julia 0.4.6",
   "language": "julia",
   "name": "julia-0.4"
  },
  "language_info": {
   "file_extension": ".jl",
   "mimetype": "application/julia",
   "name": "julia",
   "version": "0.4.6"
  }
 },
 "nbformat": 4,
 "nbformat_minor": 0
}
