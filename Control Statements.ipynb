{
 "cells": [
  {
   "cell_type": "code",
   "execution_count": 7,
   "metadata": {
    "collapsed": false
   },
   "outputs": [
    {
     "data": {
      "text/plain": [
       "10-element Array{Float64,1}:\n",
       " 0.0\n",
       " 0.0\n",
       " 0.0\n",
       " 0.0\n",
       " 0.0\n",
       " 0.0\n",
       " 0.0\n",
       " 0.0\n",
       " 0.0\n",
       " 0.0"
      ]
     },
     "execution_count": 7,
     "metadata": {},
     "output_type": "execute_result"
    }
   ],
   "source": [
    "# Define a global variable for a `for loop`, outside of the function. \n",
    "v=zeros(10)"
   ]
  },
  {
   "cell_type": "code",
   "execution_count": 5,
   "metadata": {
    "collapsed": false
   },
   "outputs": [
    {
     "name": "stderr",
     "output_type": "stream",
     "text": [
      "WARNING: Method definition f(Any) in module Main at In[3]:3 overwritten at In[5]:3.\n"
     ]
    },
    {
     "data": {
      "text/plain": [
       "f (generic function with 1 method)"
      ]
     },
     "execution_count": 5,
     "metadata": {},
     "output_type": "execute_result"
    }
   ],
   "source": [
    "# Define function for loop to wrap variable v\n",
    "function f(v) # or function <any name> (v), e.g. function forloop(v)\n",
    "    for i=1:10\n",
    "        v[i]=2^i\n",
    "    end\n",
    "    return v\n",
    "end"
   ]
  },
  {
   "cell_type": "code",
   "execution_count": 6,
   "metadata": {
    "collapsed": false
   },
   "outputs": [
    {
     "data": {
      "text/plain": [
       "10-element Array{Float64,1}:\n",
       "    2.0\n",
       "    4.0\n",
       "    8.0\n",
       "   16.0\n",
       "   32.0\n",
       "   64.0\n",
       "  128.0\n",
       "  256.0\n",
       "  512.0\n",
       " 1024.0"
      ]
     },
     "execution_count": 6,
     "metadata": {},
     "output_type": "execute_result"
    }
   ],
   "source": [
    "# call function for loop\n",
    "f(v)"
   ]
  },
  {
   "cell_type": "code",
   "execution_count": 43,
   "metadata": {
    "collapsed": false,
    "scrolled": true
   },
   "outputs": [
    {
     "name": "stderr",
     "output_type": "stream",
     "text": [
      "WARNING: Method definition whileloop(Any) in module Main at In[35]:3 overwritten at In[43]:3.\n"
     ]
    },
    {
     "data": {
      "text/plain": [
       "whileloop (generic function with 1 method)"
      ]
     },
     "execution_count": 43,
     "metadata": {},
     "output_type": "execute_result"
    }
   ],
   "source": [
    "# While loop\n",
    "function whileloop(v)\n",
    "    i=1 # I tried defining before and after whileloop but apparently a while loop only accepts variables from within, \n",
    "        # so no global variables\n",
    "    while i<=5\n",
    "        v[i]=100\n",
    "        i=i+1\n",
    "    end\n",
    "    return v\n",
    "end"
   ]
  },
  {
   "cell_type": "code",
   "execution_count": 44,
   "metadata": {
    "collapsed": false
   },
   "outputs": [
    {
     "data": {
      "text/plain": [
       "10-element Array{Float64,1}:\n",
       "  100.0\n",
       "  100.0\n",
       "  100.0\n",
       "  100.0\n",
       "  100.0\n",
       "   64.0\n",
       "  128.0\n",
       "  256.0\n",
       "  512.0\n",
       " 1024.0"
      ]
     },
     "execution_count": 44,
     "metadata": {},
     "output_type": "execute_result"
    }
   ],
   "source": [
    "whileloop(v)"
   ]
  },
  {
   "cell_type": "code",
   "execution_count": 57,
   "metadata": {
    "collapsed": false
   },
   "outputs": [
    {
     "name": "stderr",
     "output_type": "stream",
     "text": [
      "WARNING: Method definition whileloop2(Any) in module Main at In[56]:3 overwritten at In[57]:3.\n"
     ]
    },
    {
     "data": {
      "text/plain": [
       "whileloop2 (generic function with 1 method)"
      ]
     },
     "execution_count": 57,
     "metadata": {},
     "output_type": "execute_result"
    }
   ],
   "source": [
    "# Second while loop\n",
    "function whileloop2(v)\n",
    "    i=1 # I tried defining before and after whileloop but apparently a while loop only accepts variables from within\n",
    "    while true\n",
    "        v[i]=999\n",
    "        i=i+1\n",
    "        if i==8\n",
    "            break # out of while loop\n",
    "        end\n",
    "    end\n",
    "    return v\n",
    "end"
   ]
  },
  {
   "cell_type": "code",
   "execution_count": 58,
   "metadata": {
    "collapsed": false
   },
   "outputs": [
    {
     "data": {
      "text/plain": [
       "10-element Array{Float64,1}:\n",
       "  999.0\n",
       "  999.0\n",
       "  999.0\n",
       "  999.0\n",
       "  999.0\n",
       "  999.0\n",
       "  999.0\n",
       "  256.0\n",
       "  512.0\n",
       " 1024.0"
      ]
     },
     "execution_count": 58,
     "metadata": {},
     "output_type": "execute_result"
    }
   ],
   "source": [
    "whileloop2(v)"
   ]
  },
  {
   "cell_type": "code",
   "execution_count": 64,
   "metadata": {
    "collapsed": false
   },
   "outputs": [
    {
     "data": {
      "text/plain": [
       "(999.0,512.0)"
      ]
     },
     "execution_count": 64,
     "metadata": {},
     "output_type": "execute_result"
    }
   ],
   "source": [
    "v[1],v[9]"
   ]
  },
  {
   "cell_type": "code",
   "execution_count": 65,
   "metadata": {
    "collapsed": false
   },
   "outputs": [
    {
     "data": {
      "text/plain": [
       "ifsttmt (generic function with 1 method)"
      ]
     },
     "execution_count": 65,
     "metadata": {},
     "output_type": "execute_result"
    }
   ],
   "source": [
    "# Function if statement\n",
    "function ifsttmt(v)\n",
    "    v[1]=2\n",
    "    if v[1]==1\n",
    "        println(\"value is 1\")\n",
    "    elseif v[1]==2\n",
    "        println(\"value is 2\")\n",
    "    else\n",
    "        println(\"value isnt'1 or 2\")\n",
    "    end\n",
    "end"
   ]
  },
  {
   "cell_type": "code",
   "execution_count": 66,
   "metadata": {
    "collapsed": false
   },
   "outputs": [
    {
     "name": "stdout",
     "output_type": "stream",
     "text": [
      "value is 2\n"
     ]
    }
   ],
   "source": [
    "ifsttmt(v)"
   ]
  },
  {
   "cell_type": "code",
   "execution_count": 67,
   "metadata": {
    "collapsed": false
   },
   "outputs": [
    {
     "data": {
      "text/plain": [
       "square (generic function with 1 method)"
      ]
     },
     "execution_count": 67,
     "metadata": {},
     "output_type": "execute_result"
    }
   ],
   "source": [
    "# Defining Functions, basic syntax\n",
    "function square(x)\n",
    "    x^2\n",
    "end"
   ]
  },
  {
   "cell_type": "code",
   "execution_count": 68,
   "metadata": {
    "collapsed": false
   },
   "outputs": [
    {
     "data": {
      "text/plain": [
       "25"
      ]
     },
     "execution_count": 68,
     "metadata": {},
     "output_type": "execute_result"
    }
   ],
   "source": [
    "square(5)"
   ]
  },
  {
   "cell_type": "code",
   "execution_count": 70,
   "metadata": {
    "collapsed": false
   },
   "outputs": [
    {
     "data": {
      "text/plain": [
       "squareassigned (generic function with 1 method)"
      ]
     },
     "execution_count": 70,
     "metadata": {},
     "output_type": "execute_result"
    }
   ],
   "source": [
    "# function in assignment form\n",
    "squareassigned(x)=x^2"
   ]
  },
  {
   "cell_type": "code",
   "execution_count": 71,
   "metadata": {
    "collapsed": false
   },
   "outputs": [
    {
     "data": {
      "text/plain": [
       "25"
      ]
     },
     "execution_count": 71,
     "metadata": {},
     "output_type": "execute_result"
    }
   ],
   "source": [
    "squareassigned(5)"
   ]
  },
  {
   "cell_type": "code",
   "execution_count": 77,
   "metadata": {
    "collapsed": false
   },
   "outputs": [
    {
     "name": "stderr",
     "output_type": "stream",
     "text": [
      "WARNING: Method definition squareandcube(Any) in module Main at In[75]:2 overwritten at In[77]:2.\n"
     ]
    },
    {
     "data": {
      "text/plain": [
       "squareandcube (generic function with 1 method)"
      ]
     },
     "execution_count": 77,
     "metadata": {},
     "output_type": "execute_result"
    }
   ],
   "source": [
    "# Defining a function that returns multiple values (e.g. 2 values)\n",
    "function squareandcube(x)\n",
    "    y1=x^2\n",
    "    y2=x^3\n",
    "    return y1, y2\n",
    "end"
   ]
  },
  {
   "cell_type": "code",
   "execution_count": 78,
   "metadata": {
    "collapsed": false
   },
   "outputs": [
    {
     "data": {
      "text/plain": [
       "(25,125)"
      ]
     },
     "execution_count": 78,
     "metadata": {},
     "output_type": "execute_result"
    }
   ],
   "source": [
    "squareandcube(5)"
   ]
  },
  {
   "cell_type": "code",
   "execution_count": 108,
   "metadata": {
    "collapsed": false
   },
   "outputs": [
    {
     "name": "stderr",
     "output_type": "stream",
     "text": [
      "WARNING: Method definition J(Any, Any, Any) in module Main at In[106]:12 overwritten at In[108]:12.\n"
     ]
    },
    {
     "data": {
      "text/plain": [
       "J (generic function with 1 method)"
      ]
     },
     "execution_count": 108,
     "metadata": {},
     "output_type": "execute_result"
    }
   ],
   "source": [
    "# Defining a function to compute a cost function J(θ)\n",
    "\n",
    "# Define variables\n",
    "# X is a design matrix containing training examples\n",
    "# y are the class labels\n",
    "X=[1 1;1 2;1 3]\n",
    "y=[1;2;3]\n",
    "θ=[0;0]\n",
    "\n",
    "# Define cost function\n",
    "function J(X,y,θ)\n",
    "    m=size(X,1) # number of training examples\n",
    "    predictions=X*θ # predictions of hypothesis on all m examples\n",
    "    squarederrors=(predictions-y).^2 # squared errors\n",
    "    J=1/(2*m)*squarederrors\n",
    "    return sum(J) # add computed elements of array\n",
    "end"
   ]
  },
  {
   "cell_type": "code",
   "execution_count": 97,
   "metadata": {
    "collapsed": false
   },
   "outputs": [
    {
     "data": {
      "text/plain": [
       "2.333333333333333"
      ]
     },
     "execution_count": 97,
     "metadata": {},
     "output_type": "execute_result"
    }
   ],
   "source": [
    "J(X,y,θ)"
   ]
  },
  {
   "cell_type": "code",
   "execution_count": 111,
   "metadata": {
    "collapsed": false
   },
   "outputs": [
    {
     "data": {
      "text/plain": [
       "2.3333333333333335"
      ]
     },
     "execution_count": 111,
     "metadata": {},
     "output_type": "execute_result"
    }
   ],
   "source": [
    "# Sanity check\n",
    "((1^2)+(2^2)+(3^2))/(2*3)"
   ]
  },
  {
   "cell_type": "code",
   "execution_count": 109,
   "metadata": {
    "collapsed": false
   },
   "outputs": [
    {
     "name": "stdout",
     "output_type": "stream",
     "text": [
      "                          Base  37009 KB     Module\n",
      "                       BinDeps    218 KB     Module\n",
      "                    ColorTypes   6035 KB     Module\n",
      "                        Colors    398 KB     Module\n",
      "                        Compat   5783 KB     Module\n",
      "                         Conda     42 KB     Module\n",
      "                          Core  14265 KB     Module\n",
      "             FixedPointNumbers     35 KB     Module\n",
      "                        IJulia   7039 KB     Module\n",
      "                             J      0 bytes  #J\n",
      "                          JSON   5839 KB     Module\n",
      "                  LaTeXStrings   4622 bytes  Module\n",
      "                    MacroTools   5910 KB     Module\n",
      "                          Main  47553 KB     Module\n",
      "                        Nettle   5768 KB     Module\n",
      "                        PyCall   6641 KB     Module\n",
      "                        PyPlot   7119 KB     Module\n",
      "                      Reexport   5300 bytes  Module\n",
      "                           SHA     71 KB     Module\n",
      "                     URIParser   5769 KB     Module\n",
      "                             X     48 bytes  3×2 Array{Int64,2}\n",
      "                           ZMQ   5777 KB     Module\n",
      "                             f      0 bytes  #f\n",
      "                             i      8 bytes  Int64\n",
      "                       ifsttmt      0 bytes  #ifsttmt\n",
      "                        square      0 bytes  #square\n",
      "                 squareandcube      0 bytes  #squareandcube\n",
      "                squareassigned      0 bytes  #squareassigned\n",
      "                             v     80 bytes  10-element Array{Float64,1}\n",
      "                     whileloop      0 bytes  #whileloop\n",
      "                    whileloop2      0 bytes  #whileloop2\n",
      "                             y     24 bytes  3-element Array{Int64,1}\n",
      "                             θ     16 bytes  2-element Array{Int64,1}\n"
     ]
    }
   ],
   "source": [
    "whos() # variables inside function aren't exported as global variables onto module"
   ]
  },
  {
   "cell_type": "code",
   "execution_count": 163,
   "metadata": {
    "collapsed": false
   },
   "outputs": [
    {
     "name": "stderr",
     "output_type": "stream",
     "text": [
      "WARNING: Method definition predictions(Any, Any) in module Main at In[157]:4 overwritten at In[163]:4.\n"
     ]
    },
    {
     "data": {
      "text/plain": [
       "predictions (generic function with 1 method)"
      ]
     },
     "execution_count": 163,
     "metadata": {},
     "output_type": "execute_result"
    }
   ],
   "source": [
    "# Vectorization\n",
    "# Non-vectorized\n",
    "function predictions(X,θ)\n",
    "    X=[1 1 1 4 3 3 5 2;1 4 5 2 3 3 5 2;1 4 6 3 3 3 5 2;1 4 8 4 3 3 5 2;3 3 5 2 3 3 5 2;4 5 9 6 3 3 5 2;2 2 3 5 3 3 5 2]\n",
    "    θ=[1 1 1 4 3 3 5 2;1 4 5 2 3 3 5 2;1 4 6 3 3 3 5 2;1 4 8 4 3 3 5 2;3 3 5 2 3 3 5 2;4 5 9 6 3 3 5 2;2 2 3 5 3 3 5 2]\n",
    "    # understand vector multiplication and intuition here\n",
    "    predictions=X*θ # predictions of hypothesis on all m examples\n",
    "end"
   ]
  },
  {
   "cell_type": "code",
   "execution_count": 164,
   "metadata": {
    "collapsed": false
   },
   "outputs": [
    {
     "ename": "LoadError",
     "evalue": "LoadError: DimensionMismatch(\"matrix A has dimensions (7,8), matrix B has dimensions (7,8)\")\nwhile loading In[164], in expression starting on line 184",
     "output_type": "error",
     "traceback": [
      "LoadError: DimensionMismatch(\"matrix A has dimensions (7,8), matrix B has dimensions (7,8)\")\nwhile loading In[164], in expression starting on line 184",
      "",
      " in _generic_matmatmul!(::Array{Int64,2}, ::Char, ::Char, ::Array{Int64,2}, ::Array{Int64,2}) at ./linalg/matmul.jl:456",
      " in generic_matmatmul!(::Array{Int64,2}, ::Char, ::Char, ::Array{Int64,2}, ::Array{Int64,2}) at ./linalg/matmul.jl:447",
      " in predictions(::Array{Int64,2}, ::Array{Int64,1}) at ./In[163]:6"
     ]
    }
   ],
   "source": [
    "@time predictions(X,θ)"
   ]
  },
  {
   "cell_type": "code",
   "execution_count": 165,
   "metadata": {
    "collapsed": false
   },
   "outputs": [
    {
     "name": "stderr",
     "output_type": "stream",
     "text": [
      "WARNING: Method definition predictionsvectorized(Any, Any) in module Main at In[161]:3 overwritten at In[165]:3.\n"
     ]
    },
    {
     "data": {
      "text/plain": [
       "predictionsvectorized (generic function with 1 method)"
      ]
     },
     "execution_count": 165,
     "metadata": {},
     "output_type": "execute_result"
    }
   ],
   "source": [
    "# Vectorized\n",
    "function predictionsvectorized(X,θ)\n",
    "    X=[1 1 1 4 3 3 5 2;1 4 5 2 3 3 5 2;1 4 6 3 3 3 5 2;1 4 8 4 3 3 5 2;3 3 5 2 3 3 5 2;4 5 9 6 3 3 5 2;2 2 3 5 3 3 5 2]\n",
    "    θ=[1 1 1 4 3 3 5 2;1 4 5 2 3 3 5 2;1 4 6 3 3 3 5 2;1 4 8 4 3 3 5 2;3 3 5 2 3 3 5 2;4 5 9 6 3 3 5 2;2 2 3 5 3 3 5 2]\n",
    "    predictions=X.*θ # predictions of hypothesis on all m examples. Andrew Ng used X'*θ\n",
    "end"
   ]
  },
  {
   "cell_type": "code",
   "execution_count": 162,
   "metadata": {
    "collapsed": false
   },
   "outputs": [
    {
     "name": "stdout",
     "output_type": "stream",
     "text": [
      "  0.108738 seconds (62.51 k allocations: 2.354 MB, 7.10% gc time)\n"
     ]
    },
    {
     "data": {
      "text/plain": [
       "7×8 Array{Int64,2}:\n",
       "  1   1   1  16  9  9  25  4\n",
       "  1  16  25   4  9  9  25  4\n",
       "  1  16  36   9  9  9  25  4\n",
       "  1  16  64  16  9  9  25  4\n",
       "  9   9  25   4  9  9  25  4\n",
       " 16  25  81  36  9  9  25  4\n",
       "  4   4   9  25  9  9  25  4"
      ]
     },
     "execution_count": 162,
     "metadata": {},
     "output_type": "execute_result"
    }
   ],
   "source": [
    "@time predictionsvectorized(X,θ)"
   ]
  },
  {
   "cell_type": "code",
   "execution_count": null,
   "metadata": {
    "collapsed": true
   },
   "outputs": [],
   "source": []
  }
 ],
 "metadata": {
  "anaconda-cloud": {},
  "kernelspec": {
   "display_name": "Julia 0.5.0",
   "language": "julia",
   "name": "julia-0.5"
  },
  "language_info": {
   "file_extension": ".jl",
   "mimetype": "application/julia",
   "name": "julia",
   "version": "0.5.0"
  }
 },
 "nbformat": 4,
 "nbformat_minor": 0
}
